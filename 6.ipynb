{
 "cells": [
  {
   "cell_type": "markdown",
   "metadata": {},
   "source": [
    "Задача 1\n",
    "\n",
    "Даны значения величины заработной платы заемщиков банка (salary) и значения их поведенческого кредитного скоринга (scoring):\n",
    "\n",
    "salary = [35, 45, 190, 200, 40, 70, 54, 150, 120, 110]\n",
    "scoring = [401, 574, 874, 919, 459, 739, 653, 902, 746, 832]\n",
    "\n",
    "Используя только встроенные питоновские функции и структуры данных (т.е. без библиотек numpy, pandas и др.) найдите:\n",
    "1. ковариацию (смещённую и несмещённую) этих двух величин,\n",
    "2. коэффициент корреляции Пирсона.\n",
    "\n",
    "Можно затем посчитать те же значения с использованием библиотек, чтобы проверить себя."
   ]
  },
  {
   "cell_type": "code",
   "execution_count": 1,
   "metadata": {},
   "outputs": [
    {
     "name": "stdout",
     "output_type": "stream",
     "text": [
      "1) ковариация = 10175.377777777778, ковариация из пандаса = 10175.377777777776\n",
      "2) коэффициент корреляции = 0.8874900920739162, коэффициент корреляции из пандаса = 0.8874900920739162\n"
     ]
    }
   ],
   "source": [
    "import pandas as pd\n",
    "\n",
    "salary = [35, 45, 190, 200, 40, 70, 54, 150, 120, 110]\n",
    "scoring = [401, 574, 874, 919, 459, 739, 653, 902, 746, 832]\n",
    "\n",
    "m_sal = sum(salary)/len(salary)\n",
    "m_sco = sum(scoring)/len(scoring)\n",
    "\n",
    "cov = sum([(i * j) for i, j in zip([(i - m_sal) for i in salary], [(j - m_sco) for j in scoring])])/(len(salary) - 1)\n",
    "print(f'1) ковариация = {cov}, ковариация из пандаса = {pd.Series(salary).cov(pd.Series(scoring))}')\n",
    "cor = cov/((sum([(i - m_sal)**2 for i in salary])/(len(salary) - 1))**(1/2)*(sum([(i - m_sco)**2 for i in scoring])/(len(scoring) - 1))**(1/2))\n",
    "print(f'2) коэффициент корреляции = {cor}, коэффициент корреляции из пандаса = {pd.Series(salary).corr(pd.Series(scoring))}')"
   ]
  },
  {
   "cell_type": "markdown",
   "metadata": {},
   "source": [
    "Задача 2\n",
    "\n",
    "Проведите тест на значимость коэффициента корреляции Пирсона, найденного в предыдущей задаче. Что для этого нужно знать:\n",
    "* Нулевая гипотеза: реальный коэффициент корреляции равен 0. Альтернативная гипотеза двухсторонняя.\n",
    "* Статистика: t = r * sqrt(n - 2) / sqrt(1 - r ** 2), где r - коэффициент корреляции Пирсона, посчитанный по выборке.\n",
    "* В предположении верности нулевой гипотезы эта статистика имеет распределение Стьюдента с параметром df = n - 2."
   ]
  },
  {
   "cell_type": "code",
   "execution_count": 2,
   "metadata": {},
   "outputs": [
    {
     "name": "stdout",
     "output_type": "stream",
     "text": [
      "значение t-статистики 5.447168150485575 попадает в критические области -∞, -2.306004135033371 и 2.3060041350333704, +∞ с уровнем значимости в 0.05. Нулевая гипотеза отвергается. Коэффициент статистически значимый.\n"
     ]
    }
   ],
   "source": [
    "from scipy import stats\n",
    "\n",
    "t = cor * (len(salary) - 2)**(1/2) / (1 - cor ** 2)**(1/2)\n",
    "\n",
    "t1 = stats.t.ppf(0.05 / 2, df=len(salary) - 2)\n",
    "t2 = stats.t.ppf(1 - 0.05 / 2, df=len(salary) - 2)\n",
    "\n",
    "print(f'значение t-статистики {t} попадает в критические области -∞, {t1} и {t2}, +∞ с уровнем значимости в 0.05. Нулевая гипотеза отвергается. Коэффициент статистически значимый.')"
   ]
  },
  {
   "cell_type": "markdown",
   "metadata": {},
   "source": [
    "Задача 3\n",
    "\n",
    "Измерены значения IQ выборки студентов, обучающихся в местных технических вузах:\n",
    "\n",
    "131, 125, 115, 122, 131, 115, 107, 99, 125, 111\n",
    "\n",
    "Известно, что в генеральной совокупности IQ распределен нормально. Найдите доверительный интервал для математического ожидания с надежностью 0.95."
   ]
  },
  {
   "cell_type": "code",
   "execution_count": 63,
   "metadata": {},
   "outputs": [
    {
     "data": {
      "text/plain": [
       "(110.55608365158724, 125.64391634841274)"
      ]
     },
     "execution_count": 63,
     "metadata": {},
     "output_type": "execute_result"
    }
   ],
   "source": [
    "studs = [131, 125, 115, 122, 131, 115, 107, 99, 125, 111]\n",
    "alpha = 0.05\n",
    "\n",
    "m_studs = pd.Series(studs).mean()\n",
    "std_studs = pd.Series(studs).std()\n",
    "\n",
    "t1 = stats.t.ppf(alpha / 2, df=len(studs) - 1)\n",
    "t2 = stats.t.ppf(1 - alpha / 2, df=len(studs) - 1)\n",
    "\n",
    "(m_studs + t1*std_studs/(len(studs)**(1/2)), m_studs + t2*std_studs/(len(studs)**(1/2)))"
   ]
  }
 ],
 "metadata": {
  "kernelspec": {
   "display_name": "Python 3",
   "language": "python",
   "name": "python3"
  },
  "language_info": {
   "codemirror_mode": {
    "name": "ipython",
    "version": 3
   },
   "file_extension": ".py",
   "mimetype": "text/x-python",
   "name": "python",
   "nbconvert_exporter": "python",
   "pygments_lexer": "ipython3",
   "version": "3.7.8"
  }
 },
 "nbformat": 4,
 "nbformat_minor": 4
}
