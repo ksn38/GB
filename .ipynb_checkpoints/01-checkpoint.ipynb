{
 "cells": [
  {
   "cell_type": "markdown",
   "metadata": {},
   "source": [
    "1. Подберите скорость обучения (alpha) и количество итераций"
   ]
  },
  {
   "cell_type": "code",
   "execution_count": 3,
   "metadata": {},
   "outputs": [],
   "source": [
    "import numpy as np\n",
    "import matplotlib.pyplot as plt"
   ]
  },
  {
   "cell_type": "code",
   "execution_count": 7,
   "metadata": {},
   "outputs": [],
   "source": [
    "X = np.array([[1, 1, 1, 1, 1, 1, 1, 1, 1, 1],\n",
    "              [1, 1, 2, 5, 3, 0, 5, 10, 1, 2]])\n",
    "\n",
    "y = [45, 55, 50, 55, 60, 35, 75, 80, 50, 60]\n",
    "\n",
    "def calc_mae(y, y_pred):\n",
    "    err = np.mean(np.abs(y - y_pred))\n",
    "    return err\n",
    "\n",
    "def calc_mse(y, y_pred):\n",
    "    err = np.mean((y - y_pred)**2) # <=> 1/n * np.sum((y_pred - y)**2)\n",
    "    return err"
   ]
  },
  {
   "cell_type": "code",
   "execution_count": 59,
   "metadata": {},
   "outputs": [
    {
     "name": "stdout",
     "output_type": "stream",
     "text": [
      "\n",
      "Number of objects = 10            \n",
      "Learning rate = 0.035            \n",
      "Initial weights = [1.  0.5] \n",
      "\n",
      "Iteration #0: W_new = [ 4.78  13.695], MSE = 3047.75\n",
      "Iteration #50: W_new = [35.71858719  5.50687452], MSE = 87.58\n",
      "Iteration #100: W_new = [42.60776706  4.25762797], MSE = 46.96\n",
      "Iteration #150: W_new = [44.33320927  3.94474563], MSE = 44.23\n",
      "Iteration #200: W_new = [44.82025888  3.85642669], MSE = 44.0\n",
      "\n",
      "Number of objects = 10            \n",
      "Learning rate = 0.04            \n",
      "Initial weights = [1.  0.5] \n",
      "\n",
      "Iteration #0: W_new = [ 5.32 15.58], MSE = 3047.75\n",
      "Iteration #50: W_new = [37.5536575   5.17411281], MSE = 72.38\n",
      "Iteration #100: W_new = [43.43756946  4.1071561 ], MSE = 45.29\n",
      "Iteration #150: W_new = [44.65757436  3.88592702], MSE = 44.05\n",
      "Iteration #200: W_new = [44.94782362  3.83329479], MSE = 43.98\n",
      "\n",
      "Number of objects = 10            \n",
      "Learning rate = 0.045            \n",
      "Initial weights = [1.  0.5] \n",
      "\n",
      "Iteration #0: W_new = [ 5.86  17.465], MSE = 3047.75\n",
      "Iteration #50: W_new = [39.03401359  4.90567306], MSE = 62.44\n",
      "Iteration #100: W_new = [43.98868724  4.00721939], MSE = 44.55\n",
      "Iteration #150: W_new = [44.83819258  3.85317469], MSE = 43.99\n",
      "Iteration #200: W_new = [45.00836572  3.82231642], MSE = 43.97\n",
      "\n",
      "Number of objects = 10            \n",
      "Learning rate = 0.05            \n",
      "Initial weights = [1.  0.5] \n",
      "\n",
      "Iteration #0: W_new = [ 6.4  19.35], MSE = 3047.75\n",
      "Iteration #50: W_new = [40.22711439  4.68932263], MSE = 55.95\n",
      "Iteration #100: W_new = [44.35409858  3.94095767], MSE = 44.22\n",
      "Iteration #150: W_new = [44.93853538  3.83497907], MSE = 43.98\n",
      "Iteration #200: W_new = [45.037018    3.81712077], MSE = 43.97\n",
      "\n",
      "Number of objects = 10            \n",
      "Learning rate = 0.055            \n",
      "Initial weights = [1.  0.5] \n",
      "\n",
      "Iteration #0: W_new = [ 6.94  21.235], MSE = 3047.75\n",
      "Iteration #50: W_new = [41.1878031   4.51512452], MSE = 51.73\n",
      "Iteration #100: W_new = [44.59596824  3.89709834], MSE = 44.08\n",
      "Iteration #150: W_new = [44.99415142  3.82489396], MSE = 43.97\n",
      "Iteration #200: W_new = [45.05053954  3.81466884], MSE = 43.97\n",
      "\n",
      "Number of objects = 10            \n",
      "Learning rate = 0.06            \n",
      "Initial weights = [1.  0.5] \n",
      "\n",
      "Iteration #0: W_new = [ 7.48 23.12], MSE = 3047.75\n",
      "Iteration #50: W_new = [41.98493121  4.50904634], MSE = 49.38\n",
      "Iteration #100: W_new = [44.75579019  3.86811713], MSE = 44.02\n",
      "Iteration #150: W_new = [45.02490494  3.81931728], MSE = 43.97\n",
      "Iteration #200: W_new = [45.05690235  3.81351505], MSE = 43.97\n",
      "\n",
      "Number of objects = 10            \n",
      "Learning rate = 0.065            \n",
      "Initial weights = [1.  0.5] \n",
      "\n",
      "Iteration #0: W_new = [ 8.02  25.005], MSE = 3047.75\n",
      "Iteration #50: W_new = [130.23768696 487.65591537], MSE = 3675174.76\n",
      "Iteration #100: W_new = [45.05499882  4.91765612], MSE = 70.42\n",
      "Iteration #150: W_new = [45.0418703   3.81624093], MSE = 43.97\n",
      "Iteration #200: W_new = [45.05988785  3.81297367], MSE = 43.97\n",
      "\n",
      "Number of objects = 10            \n",
      "Learning rate = 0.07            \n",
      "Initial weights = [1.  0.5] \n",
      "\n",
      "Iteration #0: W_new = [ 8.56 26.89], MSE = 3047.75\n",
      "Iteration #50: W_new = [101606.28237937 560091.50322974], MSE = 3739850048907.12\n",
      "Iteration #100: W_new = [ 442803.88198303 2441672.41953599], MSE = 101853441795789.4\n",
      "Iteration #150: W_new = [144.5892081  552.73356866], MSE = 7640569.21\n",
      "Iteration #200: W_new = [45.06128497  3.81272233], MSE = 43.97\n",
      "\n",
      "Number of objects = 10            \n",
      "Learning rate = 0.075            \n",
      "Initial weights = [1.  0.5] \n",
      "\n",
      "Iteration #0: W_new = [ 9.1   28.775], MSE = 3047.75\n",
      "Iteration #50: W_new = [4.98726304e+07 2.75030759e+08], MSE = 7.07027611829976e+17\n",
      "Iteration #100: W_new = [1.57569697e+11 8.68944555e+11], MSE = 9.912409084561184e+24\n",
      "Iteration #150: W_new = [4.96325731e+10 2.73707158e+11], MSE = 1.4217396156548078e+24\n",
      "Iteration #200: W_new = [ 602722.13418881 3323567.72614344], MSE = 314785610698330.1\n"
     ]
    }
   ],
   "source": [
    "n = X.shape[1]\n",
    "\n",
    "for a in range(35, 76, 5):\n",
    "    alpha = a*0.001\n",
    "    W = np.array([1, 0.5])\n",
    "    print(f'\\nNumber of objects = {n} \\\n",
    "           \\nLearning rate = {alpha} \\\n",
    "           \\nInitial weights = {W} \\n')\n",
    "\n",
    "    for i in range(201):\n",
    "        y_pred = np.dot(W, X)\n",
    "        err = calc_mse(y, y_pred)\n",
    "        for k in range(W.shape[0]):\n",
    "            W[k] -= alpha * (1/n * 2 * np.sum(X[k] * (y_pred - y)))\n",
    "        if i % 50 == 0:\n",
    "            alpha /= 1.1\n",
    "            print(f'Iteration #{i}: W_new = {W}, MSE = {round(err,2)}')\n"
   ]
  },
  {
   "cell_type": "markdown",
   "metadata": {},
   "source": [
    "При скорости обучения 0.045 - 0.065 и количестве итераций от 200 ошибка меньше не становится."
   ]
  },
  {
   "cell_type": "markdown",
   "metadata": {},
   "source": [
    " "
   ]
  },
  {
   "cell_type": "markdown",
   "metadata": {},
   "source": [
    "*2. В этом коде мы избавляемся от итераций по весам, но тут есть ошибка, исправьте ее"
   ]
  },
  {
   "cell_type": "code",
   "execution_count": 69,
   "metadata": {},
   "outputs": [
    {
     "name": "stdout",
     "output_type": "stream",
     "text": [
      "Number of objects = 10        \n",
      "Learning rate = 0.01        \n",
      "Initial weights = [1.  0.5] \n",
      "\n",
      "Iteration #0: W_new = [5.85 5.35], MSE = 3047.75\n",
      "Iteration #10: W_new = [11.0965715 10.5965715], MSE = 597.49\n",
      "Iteration #20: W_new = [11.10415569 10.60415569], MSE = 597.49\n",
      "Iteration #30: W_new = [11.10416665 10.60416665], MSE = 597.49\n",
      "Iteration #40: W_new = [11.10416667 10.60416667], MSE = 597.49\n",
      "Iteration #50: W_new = [11.10416667 10.60416667], MSE = 597.49\n",
      "Iteration #60: W_new = [11.10416667 10.60416667], MSE = 597.49\n",
      "Iteration #70: W_new = [11.10416667 10.60416667], MSE = 597.49\n",
      "Iteration #80: W_new = [11.10416667 10.60416667], MSE = 597.49\n",
      "Iteration #90: W_new = [11.10416667 10.60416667], MSE = 597.49\n"
     ]
    }
   ],
   "source": [
    "n = X.shape[1]\n",
    "alpha = 1e-2\n",
    "W = np.array([1, 0.5])\n",
    "print(f'Number of objects = {n} \\\n",
    "       \\nLearning rate = {alpha} \\\n",
    "       \\nInitial weights = {W} \\n')\n",
    "\n",
    "for i in range(100):\n",
    "    y_pred = np.dot(W, X)\n",
    "    err = calc_mse(y, y_pred)\n",
    "#     for k in range(W.shape[0]):\n",
    "#         W[k] -= alpha * (1/n * 2 * np.sum(X[k] * (y_pred - y)))\n",
    "    W -= alpha * (1/n * 2 * np.sum(X * (y_pred - y)))\n",
    "#     W_pred = W\n",
    "    if i % 10 == 0:\n",
    "        print(f'Iteration #{i}: W_new = {W}, MSE = {round(err,2)}')"
   ]
  },
  {
   "cell_type": "code",
   "execution_count": 67,
   "metadata": {},
   "outputs": [
    {
     "name": "stdout",
     "output_type": "stream",
     "text": [
      "\n",
      "Number of objects = 10        \n",
      "Learning rate = 0.01        \n",
      "Initial weights = [1.  0.5] \n",
      "\n",
      "Iteration #0: W_new = [2.08 4.27], MSE = 3047.75\n",
      "Iteration #10: W_new = [ 6.67106886 10.61676385], MSE = 749.71\n",
      "Iteration #20: W_new = [ 9.49320908 10.25731657], MSE = 648.91\n",
      "Iteration #30: W_new = [11.85740092  9.83349244], MSE = 570.46\n",
      "Iteration #40: W_new = [13.86876921  9.46898661], MSE = 508.03\n",
      "Iteration #50: W_new = [15.59085668  9.15672679], MSE = 457.73\n",
      "Iteration #60: W_new = [17.07337653  8.88789585], MSE = 416.77\n",
      "Iteration #70: W_new = [18.35601294  8.65530964], MSE = 383.06\n",
      "Iteration #80: W_new = [19.47073522  8.45317196], MSE = 355.08\n",
      "Iteration #90: W_new = [20.44350656  8.27677488], MSE = 331.65\n"
     ]
    }
   ],
   "source": [
    "n = X.shape[1]\n",
    "alpha = 1e-2\n",
    "W = np.array([1, 0.5])\n",
    "print(f'\\nNumber of objects = {n} \\\n",
    "       \\nLearning rate = {alpha} \\\n",
    "       \\nInitial weights = {W} \\n')\n",
    "\n",
    "for i in range(100):\n",
    "    y_pred = np.dot(W, X)\n",
    "    err = calc_mse(y, y_pred)\n",
    "    for k in range(W.shape[0]):\n",
    "        W[k] -= alpha * (1/n * 2 * np.sum(X[k] * (y_pred - y)))\n",
    "    if i % 10 == 0:\n",
    "        alpha /= 1.1\n",
    "        print(f'Iteration #{i}: W_new = {W}, MSE = {round(err,2)}')"
   ]
  },
  {
   "cell_type": "code",
   "execution_count": null,
   "metadata": {},
   "outputs": [],
   "source": []
  }
 ],
 "metadata": {
  "kernelspec": {
   "display_name": "Python 3",
   "language": "python",
   "name": "python3"
  },
  "language_info": {
   "codemirror_mode": {
    "name": "ipython",
    "version": 3
   },
   "file_extension": ".py",
   "mimetype": "text/x-python",
   "name": "python",
   "nbconvert_exporter": "python",
   "pygments_lexer": "ipython3",
   "version": "3.7.2"
  }
 },
 "nbformat": 4,
 "nbformat_minor": 4
}
