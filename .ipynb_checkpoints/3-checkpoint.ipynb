{
 "cells": [
  {
   "cell_type": "markdown",
   "metadata": {},
   "source": [
    "Задача 1\n",
    "\n",
    "Даны значения зарплат из выборки выпускников:\n",
    "\n",
    "100, 80, 75, 77, 89, 33, 45, 25, 65, 17, 30, 230, 24, 57, 55, 70, 75, 65, 84, 90, 150\n",
    "\n",
    "Используя только встроенные питоновские функции и структуры данных (т.е. без библиотек numpy, pandas и др.) посчитать среднее арифметическое, смещённую и несмещённую оценки дисперсии, среднее квадратичное отклонение для данной выборки.\n",
    "\n",
    "Можно затем посчитать те же значения с использованием библиотек, чтобы проверить себя."
   ]
  },
  {
   "cell_type": "code",
   "execution_count": 43,
   "metadata": {},
   "outputs": [
    {
     "name": "stdout",
     "output_type": "stream",
     "text": [
      "среднее арифметическое = 73.14285714285714\n",
      "смещённая оценка дисперсии = 2135.074829931973\n",
      "несмещённая оценка дисперсии = 2241.8285714285716\n",
      "среднее квадратичное отклонение = 47.34795213553139\n",
      "count     21.000000\n",
      "mean      73.142857\n",
      "std       47.347952\n",
      "min       17.000000\n",
      "25%       45.000000\n",
      "50%       70.000000\n",
      "75%       84.000000\n",
      "max      230.000000\n",
      "dtype: float64\n"
     ]
    }
   ],
   "source": [
    "import pandas as pd\n",
    "\n",
    "a = [100, 80, 75, 77, 89, 33, 45, 25, 65, 17, 30, 230, 24, 57, 55, 70, 75, 65, 84, 90, 150]\n",
    "\n",
    "print('среднее арифметическое =', sum(a)/len(a))\n",
    "print('смещённая оценка дисперсии =', sum((i - sum(a)/len(a))**2 for i in a)/len(a))\n",
    "print('несмещённая оценка дисперсии =', sum((i - sum(a)/len(a))**2 for i in a)/(len(a) - 1))\n",
    "print('среднее квадратичное отклонение =', (sum((i - sum(a)/len(a))**2 for i in a)/(len(a) - 1))**(1/2))\n",
    "\n",
    "print(pd.Series(a).describe())\n",
    "\n"
   ]
  },
  {
   "cell_type": "markdown",
   "metadata": {},
   "source": [
    "Задача 2\n",
    "\n",
    "Для выборки из задачи 1 найти (также без использования библиотек):\n",
    "1. медиану, первый и третий квартили, интерквартильное расстояние,\n",
    "2. выборсы в выборке (используя для этого метод как при построении \"усов\" из boxplot).\n",
    "\n",
    "Возможные неоднозначности в вычислении квантилей можно разрешать любым способом."
   ]
  },
  {
   "cell_type": "code",
   "execution_count": 44,
   "metadata": {},
   "outputs": [
    {
     "name": "stdout",
     "output_type": "stream",
     "text": [
      "[17, 24, 25, 30, 33, 45, 55, 57, 65, 65, 70, 75, 75, 77, 80, 84, 89, 90, 100, 150, 230]\n",
      "медиана = 70\n",
      "первый квартиль = 45\n",
      "третий квартиль = 84\n",
      "Выброс 150\n",
      "Выброс 230\n"
     ]
    },
    {
     "data": {
      "image/png": "[encoded data removed]",
      "text/plain": [
       "<Figure size 432x288 with 1 Axes>"
      ]
     },
     "metadata": {
      "needs_background": "light"
     },
     "output_type": "display_data"
    }
   ],
   "source": [
    "#1.\n",
    "a.sort()\n",
    "print(a)\n",
    "\n",
    "if len(a) % 2 != 0:\n",
    "    print('медиана =', a[round(len(a)/2)])\n",
    "    print('первый квартиль =', a[round(len(a)/4)])\n",
    "    print('третий квартиль =', a[3*round(len(a)/4)])\n",
    "else:\n",
    "    print('медиана =', (a[len(a)//2] + a[(len(a)//2) - 1])/2)\n",
    "    \n",
    "    \n",
    "#2.\n",
    "#интерквартильный размах\n",
    "iqr = a[3*round(len(a)/4)] - a[round(len(a)/4)]\n",
    "\n",
    "for i in a:\n",
    "    if a[round(len(a)/2)] + 1.5*iqr > i > a[round(len(a)/2)] - 1.5*iqr:\n",
    "        pass\n",
    "    else:\n",
    "        print('Выброс', i)\n",
    "\n",
    "\n",
    "import matplotlib.pyplot as plt\n",
    "\n",
    "plt.boxplot(a)\n",
    "plt.show()"
   ]
  },
  {
   "cell_type": "markdown",
   "metadata": {},
   "source": [
    "Задача 3\n",
    "\n",
    "В университет на факультеты A и B поступило равное количество студентов, а на факультет C студентов поступило столько же, сколько на A и B вместе. Вероятность того, что студент факультета A сдаст первую сессию, равна 0.8. Для студента факультета B эта вероятность равна 0.7, а для студента факультета C - 0.9. Студент сдал первую сессию. Какова вероятность, что он учится: a) на факультете A? б) на факультете B? в) на факультете C?\n",
    "\n",
    "Замечание: да, эта задача не на тему описательных статистик, но тема важная, и её стоит иногда освежать в памяти."
   ]
  },
  {
   "cell_type": "markdown",
   "metadata": {},
   "source": [
    "Если убрать вероятности сдать из условия задачи и предположить, что все сдают первую сессию или вероятность сдать на всех факультетах одинаковая, то вероятность учится сдавшего экзамен на А = 1/4, В = 1/4, C = 1/2. "
   ]
  },
  {
   "cell_type": "code",
   "execution_count": 18,
   "metadata": {},
   "outputs": [
    {
     "name": "stdout",
     "output_type": "stream",
     "text": [
      "0.5714285714285715\n",
      "0.43749999999999994\n",
      "0.9\n",
      "1.0089285714285714\n"
     ]
    }
   ],
   "source": [
    "def bayes(a, b) -> float:\n",
    "    return a*b/(a*b + (1-a)*(1-b))\n",
    "\n",
    "print(bayes(0.8, 0.25))\n",
    "print(bayes(0.7, 0.25))\n",
    "print(bayes(0.9, 0.5))\n",
    "print(bayes(0.25, 0.8) + bayes(0.25, 0.7))"
   ]
  }
 ],
 "metadata": {
  "kernelspec": {
   "display_name": "Python 3",
   "language": "python",
   "name": "python3"
  },
  "language_info": {
   "codemirror_mode": {
    "name": "ipython",
    "version": 3
   },
   "file_extension": ".py",
   "mimetype": "text/x-python",
   "name": "python",
   "nbconvert_exporter": "python",
   "pygments_lexer": "ipython3",
   "version": "3.7.8"
  }
 },
 "nbformat": 4,
 "nbformat_minor": 4
}
