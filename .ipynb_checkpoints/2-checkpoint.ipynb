{
 "cells": [
  {
   "cell_type": "markdown",
   "metadata": {},
   "source": [
    "Задача 1\n",
    "\n",
    "Контрольная работа состоит из пяти вопросов. На каждый вопрос приведено четыре варианта ответа, один из которых правильный. Составьте закон распределения числа правильных ответов при простом угадывании. Найдите M(X), D(X)."
   ]
  },
  {
   "cell_type": "code",
   "execution_count": 7,
   "metadata": {},
   "outputs": [
    {
     "name": "stdout",
     "output_type": "stream",
     "text": [
      "[0.2373046875, 0.3955078125, 0.263671875, 0.087890625, 0.0146484375]\n"
     ]
    },
    {
     "data": {
      "image/png": "[encoded data removed]",
      "text/plain": [
       "<Figure size 432x288 with 1 Axes>"
      ]
     },
     "metadata": {
      "needs_background": "light"
     },
     "output_type": "display_data"
    },
    {
     "name": "stdout",
     "output_type": "stream",
     "text": [
      "M(X) = 1.2451171875, D(X) = f5.553983688354492\n"
     ]
    }
   ],
   "source": [
    "import numpy as np\n",
    "import matplotlib.pyplot as plt\n",
    "\n",
    "def Bern(k):\n",
    "    return (np.math.factorial(5)/(np.math.factorial(k)*np.math.factorial(5-k)))*((1/4)**k)*((3/4)**(5-k))\n",
    "    \n",
    "a = []\n",
    "\n",
    "for i in range(5):\n",
    "    a.append(Probdis(i))\n",
    "    \n",
    "print(a)\n",
    "plt.title('Распеределение вероятности')\n",
    "plt.plot(a)\n",
    "plt.show()\n",
    "\n",
    "M = (np.array(a)*np.linspace(0, 4, 5)).sum()\n",
    "D = ((np.array(a) - M)**2).sum()\n",
    "print (f'M(X) = {M}, D(X) = f{D}')\n"
   ]
  },
  {
   "cell_type": "markdown",
   "metadata": {},
   "source": [
    "Задача 2\n",
    "\n",
    "Пользователь получает в среднем 10 писем со спамом на свой почтовый ящик за сутки. Найти число N, такое, что с вероятностью 0.95 пользователь получит не более N писем со спамом за текущий день."
   ]
  },
  {
   "cell_type": "code",
   "execution_count": 8,
   "metadata": {},
   "outputs": [
    {
     "name": "stdout",
     "output_type": "stream",
     "text": [
      "N = (15, 0.95)\n"
     ]
    }
   ],
   "source": [
    "lambda_ = 10\n",
    "p = 0.95\n",
    "\n",
    "def poisson_proba(k: int) -> float:\n",
    "    \"\"\"Формула Пуассона.\n",
    "    \"\"\"\n",
    "    return (lambda_ ** k) * (np.exp(-lambda_)) / np.math.factorial(k)\n",
    "\n",
    "\n",
    "n = -1\n",
    "p2 = 0\n",
    "while p2 < p:\n",
    "    n += 1\n",
    "    p2 += poisson_proba(n)\n",
    "else:\n",
    "    print(f'N = {n, p}')\n"
   ]
  },
  {
   "cell_type": "markdown",
   "metadata": {},
   "source": [
    "Задача 3\n",
    "\n",
    "Производятся выстрелы по мишени. Вероятность попадания в мишень при одном выстреле равна 0.01. Сколько выстрелов нужно сделать чтобы быть уверенным с вероятностью 0.9, что хотя бы 6 раз будет совершено попадание?\n",
    "\n",
    "Подсказка. 1) \"Вероятность попасть k раз при n выстрелах\" - на какое распределение это похоже? 2) А если нам нужна вероятность P(X >= k), а не P(X = k)? 3) Здесь предстоит немножко покодить."
   ]
  },
  {
   "cell_type": "code",
   "execution_count": 11,
   "metadata": {},
   "outputs": [
    {
     "name": "stdout",
     "output_type": "stream",
     "text": [
      "Число выстрелов = 926, P = 0.9003627121531355\n"
     ]
    }
   ],
   "source": [
    "p_1 = 0.01\n",
    "P = 0\n",
    "k = 6\n",
    "n = 9\n",
    "\n",
    "# Формула Бернулли\n",
    "def Bern(n, k, p_1):\n",
    "    return (np.math.factorial(n)/(np.math.factorial(k)*np.math.factorial(n-k)))*(p_1**k)*((1-p_1)**(n-k))\n",
    "\n",
    "\n",
    "#Вероятность P(x >= k) для биноминального распределения\n",
    "def binom_proba(n, k, p):\n",
    "    return 1 - sum(Bern(n, i, p) for i in range(k))\n",
    "    \n",
    "\n",
    "while P < 0.9:\n",
    "    n += 1\n",
    "    P = binom_proba(n, k, p_1)\n",
    "else:\n",
    "    print(f'Число выстрелов = {n}, P = {P}')"
   ]
  }
 ],
 "metadata": {
  "kernelspec": {
   "display_name": "Python 3",
   "language": "python",
   "name": "python3"
  },
  "language_info": {
   "codemirror_mode": {
    "name": "ipython",
    "version": 3
   },
   "file_extension": ".py",
   "mimetype": "text/x-python",
   "name": "python",
   "nbconvert_exporter": "python",
   "pygments_lexer": "ipython3",
   "version": "3.7.8"
  }
 },
 "nbformat": 4,
 "nbformat_minor": 4
}
