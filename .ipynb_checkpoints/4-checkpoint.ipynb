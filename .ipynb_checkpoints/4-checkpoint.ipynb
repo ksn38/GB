{
 "cells": [
  {
   "cell_type": "markdown",
   "metadata": {},
   "source": [
    "Задача 1\n",
    "\n",
    "О непрерывной равномерно распределённой случайной величине B известно, что её дисперсия равна 0.2. Можно ли найти правую границу величины B и её среднее значение зная, что левая граница равна 0.5? Если да, найдите их."
   ]
  },
  {
   "cell_type": "code",
   "execution_count": 90,
   "metadata": {},
   "outputs": [
    {
     "data": {
      "text/plain": [
       "(2.05, 1.275)"
      ]
     },
     "execution_count": 90,
     "metadata": {},
     "output_type": "execute_result"
    }
   ],
   "source": [
    "D = 0.2\n",
    "a = 0.5\n",
    "\n",
    "'''D = (b - a)**2/12\n",
    "b**2 - 2ab + a**2 = 12*D\n",
    "b**2 - b - 2.15 = 0'''\n",
    "\n",
    "b1 = 2.05\n",
    "b2 = -1.05\n",
    "'''Так как второй корень левее а, то отбрасываем его'''\n",
    "M = (a + b1)/2\n",
    "\n",
    "b1, M"
   ]
  },
  {
   "cell_type": "markdown",
   "metadata": {},
   "source": [
    "Задача 2\n",
    "\n",
    "Коробки с шоколадом упаковываются автоматически. Их средняя масса равна 1.06 кг. Известно, что 5% коробок имеют массу, меньшую 1 кг. Найдите: а) среднее квадратическое отклонение массы коробки, б) процент коробок, имеющих массу больше 1.1 кг.\n",
    "\n",
    "Подсказка. Найдите такое значение scale, для которого значение cdf(x=1, loc=1.06, scale=scale) близко к 0.05. Точности 0.0001 будет достаточно."
   ]
  },
  {
   "cell_type": "code",
   "execution_count": 91,
   "metadata": {},
   "outputs": [
    {
     "name": "stdout",
     "output_type": "stream",
     "text": [
      "среднее квадратическое отклонение массы коробки = 0.03650000000000002\n"
     ]
    }
   ],
   "source": [
    "from scipy import stats\n",
    "\n",
    "\n",
    "def normf(x):\n",
    "    return stats.norm.cdf(x=1, loc=1.06, scale=x)\n",
    "\n",
    "#а)\n",
    "n = 0.0001\n",
    "while normf(n) < 0.05:\n",
    "    n += 0.0001\n",
    "else:\n",
    "    print('среднее квадратическое отклонение массы коробки =', n)"
   ]
  },
  {
   "cell_type": "code",
   "execution_count": 92,
   "metadata": {},
   "outputs": [
    {
     "name": "stdout",
     "output_type": "stream",
     "text": [
      "процент коробок, имеющих массу больше 1.1 кг = 0.13656336797447755\n"
     ]
    }
   ],
   "source": [
    "#б)\n",
    "def normf(x):\n",
    "    return stats.norm.cdf(x, loc=1.06, scale=0.0365)\n",
    "\n",
    "print('процент коробок, имеющих массу больше 1.1 кг =', 1 - normf(1.1))"
   ]
  },
  {
   "cell_type": "markdown",
   "metadata": {},
   "source": [
    "Задача 3\n",
    "\n",
    "Коробка содержит 30 конфет. Известно, что масса каждой конфеты распределена равномерно в промежутке от 12 до 14 граммов. Используя центральную предельную теорему, найти вероятность, что масса всей коробки будет: а) меньше 390 граммов, б) больше 395 граммов, в) от 380 до 400 граммов.\n",
    "\n",
    "Массой самой коробки можно пренебречь."
   ]
  },
  {
   "cell_type": "code",
   "execution_count": 2,
   "metadata": {},
   "outputs": [
    {
     "name": "stdout",
     "output_type": "stream",
     "text": [
      "меньше 390 граммов 0.49945\n",
      "больше 395 граммов 0.05589999999999995\n",
      "от 380 до 400 граммов 0.9987\n"
     ]
    },
    {
     "data": {
      "image/png": "[encoded data removed]",
      "text/plain": [
       "<Figure size 600x400 with 1 Axes>"
      ]
     },
     "metadata": {},
     "output_type": "display_data"
    }
   ],
   "source": [
    "\n",
    "import numpy as np\n",
    "import matplotlib.pyplot as plt\n",
    "from scipy import stats\n",
    "plt.style.use('seaborn-whitegrid')\n",
    "plt.rcParams['figure.dpi'] = 100\n",
    " \n",
    "\n",
    "def edf(samples, x: float) -> float:\n",
    "    \"\"\"Эмпирическая функция распределения (empirical distribution\n",
    "    function).\n",
    "    \"\"\"\n",
    "    return samples[samples < x].shape[0] / samples.shape[0]\n",
    " \n",
    "\n",
    "def get_mean_samples_uni(n: int) -> np.ndarray:\n",
    "    \"\"\"Возвращает выборку из значений среднего от `n` равномерно распределённых\n",
    "    случайных величин.\n",
    "    \"\"\"\n",
    "    samples = np.random.uniform(12, 14, size=(n, 30))\n",
    "#     return samples.mean(axis=0)\n",
    "    return samples.sum(axis=1)\n",
    "\n",
    "\n",
    "n = 20000\n",
    " \n",
    "samples = get_mean_samples_uni(n)\n",
    "#plt.hist(samples, density=True, bins=30)\n",
    "#plt.show()\n",
    " \n",
    "ox = np.linspace(375, 405, 20)\n",
    "oy = np.array([edf(samples=samples, x=x) for x in ox])\n",
    " \n",
    "plt.plot(ox, oy)\n",
    " \n",
    "# а)\n",
    "print('меньше 390 граммов', edf(samples=samples, x=390))\n",
    "# б) \n",
    "print('больше 395 граммов', 1 - edf(samples=samples, x=395))\n",
    "# в)\n",
    "print('от 380 до 400 граммов', edf(samples=samples, x=400) - edf(samples=samples, x=380))\n"
   ]
  }
 ],
 "metadata": {
  "kernelspec": {
   "display_name": "Python 3",
   "language": "python",
   "name": "python3"
  },
  "language_info": {
   "codemirror_mode": {
    "name": "ipython",
    "version": 3
   },
   "file_extension": ".py",
   "mimetype": "text/x-python",
   "name": "python",
   "nbconvert_exporter": "python",
   "pygments_lexer": "ipython3",
   "version": "3.7.8"
  }
 },
 "nbformat": 4,
 "nbformat_minor": 4
}
