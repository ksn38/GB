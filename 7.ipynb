{
 "cells": [
  {
   "cell_type": "markdown",
   "metadata": {},
   "source": [
    "Задача 1\n",
    "\n",
    "Дана матрица объект-признак X и значения целевой переменной y.\n",
    "    Подберите два признака (из четырёх) так, чтобы уровень линейной зависимости целевой переменной от значений этих признаков был максимальным. Другими словами, модель линейной регрессии на этих признаках должна давать наилучший результат.\n",
    "    Является ли значимым получившееся уравнение регрессии?\n"
   ]
  },
  {
   "cell_type": "code",
   "execution_count": 2,
   "metadata": {},
   "outputs": [
    {
     "data": {
      "text/plain": [
       "(0.18113594742585015,\n",
       " 0.7634246238793155,\n",
       " 0.45329667831440834,\n",
       " 0.5479482734039004,\n",
       " 0.6062055761129921,\n",
       " 0.6224419876505316)"
      ]
     },
     "execution_count": 2,
     "metadata": {},
     "output_type": "execute_result"
    }
   ],
   "source": [
    "import numpy as np\n",
    "\n",
    "X = [[ 1.22401313, 2.30868478, 3.03636353, 2.69287214],\n",
    "[-0.18757272, 1.30337355, 5.12093014, 3.46363202],\n",
    "[-0.81094525, 1.82463398, 5.79686488, 1.86159445],\n",
    "[ 0.75129018, 2.67392052, 3.65529809, 1.66746094],\n",
    "[ 0.00972362, 1.97367255, 2.50594319, 1.69755173],\n",
    "[-0.62972637, 0.77750764, 2.84124027, 4.54410559],\n",
    "[ 2.29536229, 1.81206697, 1.95026215, 1.51874636],\n",
    "[ 0.0920418 , 2.26971361, 7.47708735, 2.61081203],\n",
    "[ 2.39252799, 3.17563985, 3.61420599, 5.10773362],\n",
    "[ 0.54983815, 2.87988651, 1.65752765, 1.59635987]]\n",
    "\n",
    "y = [ 9.26193358, 9.700363 , 8.67214805, 8.74796974, 6.18689108,\n",
    "7.53312713, 7.57643777, 12.44965478, 14.29010746, 6.68361218]\n",
    "\n",
    "X = np.array(X)\n",
    "y = np.array(y)\n",
    "#b = (np.linalg.inv(X.T.dot(X))).dot(X.T).dot(y)\n",
    "\n",
    "def r2(y, x):\n",
    "    ones = np.ones((x.shape[0], 1))\n",
    "    x = np.hstack([ones, x])\n",
    "    return 1 - (y - x.dot(np.linalg.inv(x.T.dot(x))).dot(x.T).dot(y)).var(ddof=1)/y.var(ddof=1)\n",
    "\n",
    "r2(y, X[:, [0, 1]]), r2(y, X[:, [0, 2]]), r2(y, X[:, [0, 3]]), r2(y, X[:, [1, 2]]), r2(y, X[:, [1, 3]]), r2(y, X[:, [2, 3]])\n",
    "\n"
   ]
  },
  {
   "cell_type": "code",
   "execution_count": 3,
   "metadata": {},
   "outputs": [
    {
     "name": "stdout",
     "output_type": "stream",
     "text": [
      "Статистика лучшего результата F = 11.294439122922672 попала в критическую область (4.73741412777588, +∞). Результат значим при уровне значимости в 0.05\n"
     ]
    }
   ],
   "source": [
    "from scipy import stats\n",
    "\n",
    "n = X.shape[0]\n",
    "m = 2\n",
    "\n",
    "k1 = m\n",
    "k2 = n - m - 1\n",
    "\n",
    "alpha = 0.05\n",
    "\n",
    "t = stats.f.ppf(1 - alpha, k1, k2)\n",
    "F = (0.7634246238793155 / k1) / ((1 - 0.7634246238793155) / k2)\n",
    "\n",
    "print(f'Статистика лучшего результата F = {F} попала в критическую область ({t}, +∞). Результат значим при уровне значимости в 0.05')\n"
   ]
  },
  {
   "cell_type": "markdown",
   "metadata": {},
   "source": [
    "Задача 2\n",
    "\n",
    "Для проведения A/B-тестирования сайта интернет-магазина были получены следующие данные: страница A была посещена 2509 раз, из них 77 закончились совершением покупки, страница B была посещена 1465 раз, 60 из них закончились совершением покупки. Является ли значимым отличие конверсии на страницах A и B?"
   ]
  },
  {
   "cell_type": "code",
   "execution_count": 8,
   "metadata": {},
   "outputs": [
    {
     "name": "stdout",
     "output_type": "stream",
     "text": [
      "Статистика F = 2.92932438890135 не попала в критическую область (3.8438010503414866, +∞). Результат - случайность при уровне значимости в 0.05.\n"
     ]
    }
   ],
   "source": [
    "a = np.concatenate([np.zeros(2509 - 77), np.ones(77)])\n",
    "b = np.concatenate([np.zeros(1465 - 60), np.ones(60)])\n",
    "ab = np.concatenate([a, b])\n",
    "\n",
    "SS_b = len(a) * (a.mean() - ab.mean()) ** 2 + len(b) * (b.mean() - ab.mean()) ** 2 \n",
    "SS_w = ((a - a.mean()) ** 2).sum() + ((b - b.mean()) ** 2).sum()\n",
    "\n",
    "k = 2\n",
    "n = len(a) + len(b)\n",
    "\n",
    "k1 = k - 1\n",
    "k2 = n - k\n",
    "\n",
    "sigma2_b = SS_b / k1\n",
    "sigma2_w = SS_w / k2\n",
    "\n",
    "F = sigma2_b / sigma2_w\n",
    "\n",
    "alpha = 0.05\n",
    "\n",
    "t = stats.f.ppf(1 - alpha, k1, k2)\n",
    "print(f'Статистика F = {F} не попала в критическую область ({t}, +∞). Результат - случайность при уровне значимости в 0.05.')"
   ]
  },
  {
   "cell_type": "markdown",
   "metadata": {},
   "source": [
    "Задача 3\n",
    "\n",
    "Квартет Энскомба — популярный в области анализа данных пример наборов данных, у которых практически совпадают все статистические свойства (средние, дисперсии, коэффициенты корреляции, регрессионные линии), однако, существенно отличаются графики. Данный пример призван показать, насколько важна визуализация данных. Датасет представляет собой 4 пары выборок:\n",
    "\n",
    "По каждой паре выборок посчитайте:\n",
    "    выборочное среднее и дисперсию каждой выборки,\n",
    "    коэффициент корреляции Пирсона и прямую линейной регрессии.\n",
    "\n",
    "Убедившись в том, что они не практически не отличаются, постройте scatter plot по каждой паре выборок."
   ]
  },
  {
   "cell_type": "code",
   "execution_count": 9,
   "metadata": {},
   "outputs": [
    {
     "name": "stdout",
     "output_type": "stream",
     "text": [
      "среднее 9.0 7.500909090909093 9.0 7.50090909090909 9.0 7.5 9.0 7.500909090909091\n",
      "дисперсия 11.0 4.127269090909091 11.0 4.127629090909091 11.0 4.12262 11.0 4.123249090909091\n",
      "корреляция 0.81642051634484 0.8162365060002428 0.8162867394895984 0.8165214368885028\n",
      "коэффициенты регрессии (0.5000909090909093, 3.0000909090909094) (0.5000000000000001, 3.000909090909089) (0.49972727272727285, 3.002454545454544) (0.49972727272727285, 3.002454545454544)\n"
     ]
    },
    {
     "data": {
      "image/png": "[encoded data removed]",
      "text/plain": [
       "<Figure size 720x720 with 4 Axes>"
      ]
     },
     "metadata": {
      "needs_background": "light"
     },
     "output_type": "display_data"
    }
   ],
   "source": [
    "import pandas as pd\n",
    "import matplotlib.pyplot as plt\n",
    "\n",
    "a = {\n",
    "    \"x1\": [10.0, 8.0, 13.0, 9.0, 11.0, 14.0, 6.0, 4.0, 12.0, 7.0, 5.0],\n",
    "    \"y1\": [8.04, 6.95, 7.58, 8.81, 8.33, 9.96, 7.24, 4.26, 10.84, 4.82, 5.68],\n",
    "    \"x2\": [10.0, 8.0, 13.0, 9.0, 11.0, 14.0, 6.0, 4.0, 12.0, 7.0, 5.0],\n",
    "    \"y2\": [9.14, 8.14, 8.74, 8.77, 9.26, 8.1, 6.13, 3.1, 9.13, 7.26, 4.74],\n",
    "    \"x3\": [10.0, 8.0, 13.0, 9.0, 11.0, 14.0, 6.0, 4.0, 12.0, 7.0, 5.0],\n",
    "    \"y3\": [7.46, 6.77, 12.74, 7.11, 7.81, 8.84, 6.08, 5.39, 8.15, 6.42, 5.73],\n",
    "    \"x4\": [8.0, 8.0, 8.0, 8.0, 8.0, 8.0, 8.0, 19.0, 8.0, 8.0, 8.0],\n",
    "    \"y4\": [6.58, 5.76, 7.71, 8.84, 8.47, 7.04, 5.25, 12.5, 5.56, 7.91, 6.89]\n",
    "}\n",
    "\n",
    "a = pd.DataFrame(a)\n",
    "\n",
    "print('среднее', a.x1.mean(), a.y1.mean(), a.x2.mean(), a.y2.mean(), a.x3.mean(), a.y3.mean(), a.x4.mean(), a.y4.mean()),\n",
    "print('дисперсия', a.x1.var(), a.y1.var(), a.x2.var(), a.y2.var(), a.x3.var(), a.y3.var(), a.x4.var(), a.y4.var())\n",
    "print('корреляция', a.x1.corr(a.y1), a.x2.corr(a.y2), a.x3.corr(a.y3), a.x4.corr(a.y4))\n",
    "\n",
    "def koef(x, y):\n",
    "    return x.cov(y)/x.var(), y.mean() - x.cov(y)/x.var() * x.mean()\n",
    "\n",
    "print('коэффициенты регрессии', koef(a.x1, a.y1), koef(a.x2, a.y2), koef(a.x3, a.y3), koef(a.x3, a.y3))\n",
    "\n",
    "fig, ax = plt.subplots(nrows=2, ncols=2)\n",
    "fig.set_size_inches(10, 10)\n",
    "fig.subplots_adjust(wspace=0.3)\n",
    "fig.subplots_adjust(hspace=0.3)\n",
    "ax1, ax2, ax3, ax4 = ax.flatten()\n",
    "ax1.scatter(a.x1, a.y1)\n",
    "ax2.scatter(a.x2, a.y2)\n",
    "ax3.scatter(a.x3, a.y3)\n",
    "ax4.scatter(a.x4, a.y4)\n",
    "plt.show()"
   ]
  }
 ],
 "metadata": {
  "kernelspec": {
   "display_name": "Python 3",
   "language": "python",
   "name": "python3"
  },
  "language_info": {
   "codemirror_mode": {
    "name": "ipython",
    "version": 3
   },
   "file_extension": ".py",
   "mimetype": "text/x-python",
   "name": "python",
   "nbconvert_exporter": "python",
   "pygments_lexer": "ipython3",
   "version": "3.7.8"
  }
 },
 "nbformat": 4,
 "nbformat_minor": 4
}
